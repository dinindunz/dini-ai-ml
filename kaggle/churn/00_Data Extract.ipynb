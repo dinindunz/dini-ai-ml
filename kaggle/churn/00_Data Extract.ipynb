{
 "cells": [
  {
   "cell_type": "code",
   "execution_count": null,
   "metadata": {},
   "outputs": [],
   "source": [
    "%pip install pyspark kaggle py7zr delta-spark==2.0.0\n",
    "# %pip install pyspark==3.5.3 kaggle py7zr delta-spark==3.2.1\n"
   ]
  },
  {
   "cell_type": "code",
   "execution_count": null,
   "metadata": {},
   "outputs": [],
   "source": [
    "import os\n",
    "os.environ['kaggle_username'] = \"dinindusuriyamudali\"\n",
    "os.environ['kaggle_key'] = \"80c09dec1047aa0b754f6fa054b4f826\""
   ]
  },
  {
   "cell_type": "code",
   "execution_count": null,
   "metadata": {},
   "outputs": [],
   "source": [
    "%%sh -e\n",
    "temp_dir=\"$HOME/databricks/tmp\"\n",
    "mkdir -p $temp_dir\n",
    "\n",
    "cd $temp_dir\n",
    "export KAGGLE_USERNAME=$kaggle_username\n",
    "export KAGGLE_KEY=$kaggle_key\n",
    "kaggle competitions download -c kkbox-churn-prediction-challenge\n",
    "unzip -o kkbox-churn-prediction-challenge.zip\n",
    "py7zr x members_v3.csv.7z\n",
    "py7zr x transactions.csv.7z\n",
    "py7zr x transactions_v2.csv.7z\n",
    "py7zr x user_logs.csv.7z\n",
    "py7zr x user_logs_v2.csv.7z"
   ]
  },
  {
   "cell_type": "code",
   "execution_count": null,
   "metadata": {},
   "outputs": [],
   "source": [
    "%%sh -e\n",
    "data_dir=\"$HOME/databricks/kkbox_churn\"\n",
    "\n",
    "mkdir -p \"$data_dir/members\"\n",
    "mkdir -p \"$data_dir/transactions\"\n",
    "mkdir -p \"$data_dir/user_logs\"\n",
    "\n",
    "mv \"$temp_dir/members_v3.csv\" \"$data_dir/members/members_v3.csv\"\n",
    "mv \"$temp_dir/transactions.csv\" \"$data_dir/transactions/transactions.csv\"\n",
    "mv \"$temp_dir/data/churn_comp_refresh/transactions_v2.csv\" \"$data_dir/transactions/transactions_v2.csv\"\n",
    "mv \"$temp_dir/user_logs.csv\" \"$data_dir/user_logs/user_logs.csv\"\n",
    "mv \"$temp_dir/data/churn_comp_refresh/user_logs_v2.csv\" \"$data_dir/user_logs/user_logs_v2.csv\""
   ]
  }
 ],
 "metadata": {
  "kernelspec": {
   "display_name": "churn",
   "language": "python",
   "name": "python3"
  },
  "language_info": {
   "name": "python",
   "version": "3.11.11"
  }
 },
 "nbformat": 4,
 "nbformat_minor": 2
}
