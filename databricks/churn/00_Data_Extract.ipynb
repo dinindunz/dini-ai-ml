{
 "cells": [
  {
   "cell_type": "code",
   "execution_count": null,
   "metadata": {
    "vscode": {
     "languageId": "plaintext"
    }
   },
   "outputs": [],
   "source": [
    "%pip install kaggle py7zr"
   ]
  },
  {
   "cell_type": "code",
   "execution_count": null,
   "metadata": {
    "vscode": {
     "languageId": "plaintext"
    }
   },
   "outputs": [],
   "source": [
    "import os\n",
    "os.environ['kaggle_username'] = 'dinindusuriyamudali'\n",
    "os.environ['kaggle_key'] = '80c09dec1047aa0b754f6fa054b4f826'"
   ]
  },
  {
   "cell_type": "code",
   "execution_count": null,
   "metadata": {
    "vscode": {
     "languageId": "plaintext"
    }
   },
   "outputs": [],
   "source": [
    "%sh -e\n",
    "cd /databricks/driver\n",
    "export KAGGLE_USERNAME=$kaggle_username\n",
    "export KAGGLE_KEY=$kaggle_key\n",
    "kaggle competitions download -c kkbox-churn-prediction-challenge\n",
    "unzip -o kkbox-churn-prediction-challenge.zip\n",
    "py7zr x members_v3.csv.7z\n",
    "py7zr x transactions.csv.7z\n",
    "py7zr x transactions_v2.csv.7z\n",
    "py7zr x user_logs.csv.7z\n",
    "py7zr x user_logs_v2.csv.7z"
   ]
  },
  {
   "cell_type": "code",
   "execution_count": null,
   "metadata": {
    "vscode": {
     "languageId": "plaintext"
    }
   },
   "outputs": [],
   "source": [
    "dbutils.fs.mv(\"file:/databricks/driver/members_v3.csv\", \"dbfs:/tmp/kkbox_churn/members/members_v3.csv\")\n",
    "dbutils.fs.mv(\"file:/databricks/driver/transactions.csv\", \"dbfs:/tmp/kkbox_churn/transactions/transactions.csv\")\n",
    "dbutils.fs.mv(\"file:/databricks/driver/data/churn_comp_refresh/transactions_v2.csv\", \"dbfs:/tmp/kkbox_churn/transactions/transactions_v2.csv\")\n",
    "dbutils.fs.mv(\"file:/databricks/driver/user_logs.csv\", \"dbfs:/tmp/kkbox_churn/user_logs/user_logs.csv\")\n",
    "dbutils.fs.mv(\"file:/databricks/driver/data/churn_comp_refresh/user_logs_v2.csv\", \"dbfs:/tmp/kkbox_churn/user_logs/user_logs_v2.csv\")"
   ]
  },
  {
   "cell_type": "code",
   "execution_count": null,
   "metadata": {
    "vscode": {
     "languageId": "plaintext"
    }
   },
   "outputs": [],
   "source": [
    "%fs ls /tmp/kkbox_churn/transactions/"
   ]
  }
 ],
 "metadata": {
  "language_info": {
   "name": "python"
  }
 },
 "nbformat": 4,
 "nbformat_minor": 2
}
