{
 "cells": [
  {
   "cell_type": "markdown",
   "metadata": {},
   "source": [
    "1. TensorFlow\n",
    "What it is: An open-source deep learning framework developed by Google.\n",
    "Purpose: Designed for building and deploying machine learning models, especially deep learning.\n",
    "Key Features: Automatic differentiation, distributed computing, and production-ready deployment tools like TensorFlow Serving and TensorFlow Lite.\n",
    "2. PyTorch\n",
    "What it is: An open-source deep learning framework developed by Facebook.\n",
    "Purpose: Known for its dynamic computation graph, making it easier to experiment and debug.\n",
    "Key Features: Flexibility for research, strong GPU support, and a popular choice for deep learning research.\n",
    "3. Scikit-Learn\n",
    "What it is: A Python library for traditional machine learning.\n",
    "Purpose: Provides tools for building and evaluating machine learning models (e.g., regression, classification, clustering).\n",
    "Key Features: Simple API, excellent documentation, and integration with NumPy and Pandas.\n",
    "4. Pandas\n",
    "What it is: A Python library for data manipulation and analysis.\n",
    "Purpose: Helps handle structured data in tabular form (e.g., CSVs, databases).\n",
    "Key Features: DataFrames and Series for organizing, filtering, and transforming datasets.\n",
    "5. NumPy\n",
    "What it is: A library for numerical computing in Python.\n",
    "Purpose: Provides support for handling arrays and performing mathematical operations efficiently.\n",
    "Key Features: Multidimensional arrays, linear algebra, random number generation, and integration with other libraries like TensorFlow and PyTorch."
   ]
  },
  {
   "cell_type": "code",
   "execution_count": null,
   "metadata": {},
   "outputs": [],
   "source": [
    "import numpy as np\n",
    "\n",
    "# Define a vector\n",
    "vector = np.array([1, 2, 3])\n",
    "\n",
    "# Magnitude of the vector\n",
    "magnitude = np.linalg.norm(vector)\n",
    "\n",
    "# Normalize the vector\n",
    "normalized_vector = vector / magnitude\n",
    "\n",
    "print(\"Vector:\", vector)\n",
    "print(\"Magnitude:\", magnitude)\n",
    "print(\"Normalized Vector:\", normalized_vector)"
   ]
  }
 ],
 "metadata": {
  "kernelspec": {
   "display_name": "Python 3",
   "language": "python",
   "name": "python3"
  },
  "language_info": {
   "codemirror_mode": {
    "name": "ipython",
    "version": 3
   },
   "file_extension": ".py",
   "mimetype": "text/x-python",
   "name": "python",
   "nbconvert_exporter": "python",
   "pygments_lexer": "ipython3",
   "version": "3.10.12"
  }
 },
 "nbformat": 4,
 "nbformat_minor": 2
}
